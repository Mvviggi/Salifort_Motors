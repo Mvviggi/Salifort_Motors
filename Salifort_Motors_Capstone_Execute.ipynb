{
 "cells": [
  {
   "cell_type": "markdown",
   "id": "1336b41a",
   "metadata": {},
   "source": [
    "# pacE: Execute Stage\n",
    "- Interpret model performance and results\n",
    "- Share actionable steps with stakeholders"
   ]
  },
  {
   "cell_type": "markdown",
   "id": "14561f40",
   "metadata": {},
   "source": [
    "✏\n",
    "## Recall evaluation metrics\n",
    "\n",
    "- **AUC** is the area under the ROC curve; it's also considered the probability that the model ranks a random positive example more highly than a random negative example.\n",
    "- **Precision** measures the proportion of data points predicted as True that are actually True, in other words, the proportion of positive predictions that are true positives.\n",
    "- **Recall** measures the proportion of data points that are predicted as True, out of all the data points that are actually True. In other words, it measures the proportion of positives that are correctly classified.\n",
    "- **Accuracy** measures the proportion of data points that are correctly classified.\n",
    "- **F1-score** is an aggregation of precision and recall.\n",
    "\n"
   ]
  },
  {
   "cell_type": "markdown",
   "id": "f9549ebf",
   "metadata": {},
   "source": [
    "💭\n",
    "### Reflect on these questions as you complete the executing stage.\n",
    "\n",
    "- What key insights emerged from your model(s)?\n",
    "- What business recommendations do you propose based on the models built?\n",
    "- What potential recommendations would you make to your manager/company?\n",
    "- Do you think your model could be improved? Why or why not? How?\n",
    "- Given what you know about the data and the models you were using, what other questions could you address for the team?\n",
    "- What resources do you find yourself using as you complete this stage? (Make sure to include the links.)\n",
    "- Do you have any ethical considerations in this stage?\n"
   ]
  },
  {
   "cell_type": "markdown",
   "id": "c9bef683",
   "metadata": {},
   "source": [
    "## Step 4. Results and Evaluation\n",
    "- Interpret model\n",
    "- Evaluate model performance using metrics\n",
    "- Prepare results, visualizations, and actionable steps to share with stakeholders\n"
   ]
  },
  {
   "cell_type": "markdown",
   "id": "06a3a848",
   "metadata": {},
   "source": [
    "### Summary of model results\n",
    "\n",
    "1. The Decision Tree and Random Forest Models had two rounds of training and testing because after first round of results, feature engineering was considered in order to corroborate the test score high values. This was performed due to a possibility of data leakeage. It was suspected that the 'average_monthly_hours' might have been the source of the leakeage.\n",
    "    - The 'satisfaction_level' variable was removed for the second run.\n",
    "2. The second round of Decision Tree and Random Forest with one variable less, result with slightly lower test scores but good overall.\n",
    "3. Random Forest Model had the best overall test scores to predict whether an employee would leave the company. \n",
    "4. From the Confusion matrix, the best prediction model that best suited to answer the question is the XGBoost Model. \n",
    "     The test scores for the XGBoost are: <br>\n",
    "        accuracy score: 98% <br>\n",
    "        precision score: 97% <br>\n",
    "        recall score: 91% <br>\n",
    "        f1 score: 94%\n",
    "5. The reasons that employees are likely to leave the company is to be overworked which can be led due to having multiple projects and having a long tenure at the company, in addition to not having enough evaluation performance reviews. "
   ]
  },
  {
   "cell_type": "markdown",
   "id": "51334d23",
   "metadata": {},
   "source": [
    "#### Plots of all four confusion matrix \n",
    "\n",
    "Confusion matrix to evaluate the model performance\n",
    "\n",
    "![Confusion Matrix for all models](ConfusionMatrix.png)"
   ]
  },
  {
   "cell_type": "markdown",
   "id": "5014a39c",
   "metadata": {},
   "source": [
    "### Conclusion, Recommendations, Next Steps\n",
    "\n",
    "1. Prediction models have shown to be helpful to understand better how employees feel and surveys like in this project are meaningful for the employer to improve and keep their faithful employees.\n",
    "2. Results show that the range of average monthly hours is from 96 to 310 hours. Approximately monthly hours of working is 166.67 for an employee 50 weeks a year, 5 days a week for 8 hours per day. <br> It could be defined that overworking is > 175 hrs per month on average. <br>\n",
    "        - Employees could be more satisfied in the job if there is a more balanced work/life and have a limit of average mohtly hours worked.\n",
    "3. It would be beneficial to keep the employees morale if more recognition with evaluation perfomance reviews are done yearly or after a number of projects are completed. \n",
    "4. A future survey could be encourgaed to be completed by employees from departments (i.e management, IT, marketing) that did not have as many response compared to other departments (i.e sales, technical). "
   ]
  }
 ],
 "metadata": {
  "language_info": {
   "name": "python"
  }
 },
 "nbformat": 4,
 "nbformat_minor": 5
}
