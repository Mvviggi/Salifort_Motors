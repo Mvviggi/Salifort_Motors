{
 "cells": [
  {
   "cell_type": "markdown",
   "id": "1336b41a",
   "metadata": {},
   "source": [
    "# pacE: Execute Stage\n",
    "- Interpret model performance and results\n",
    "- Share actionable steps with stakeholders"
   ]
  },
  {
   "cell_type": "markdown",
   "id": "14561f40",
   "metadata": {},
   "source": [
    "✏\n",
    "## Recall evaluation metrics\n",
    "\n",
    "- **AUC** is the area under the ROC curve; it's also considered the probability that the model ranks a random positive example more highly than a random negative example.\n",
    "- **Precision** measures the proportion of data points predicted as True that are actually True, in other words, the proportion of positive predictions that are true positives.\n",
    "- **Recall** measures the proportion of data points that are predicted as True, out of all the data points that are actually True. In other words, it measures the proportion of positives that are correctly classified.\n",
    "- **Accuracy** measures the proportion of data points that are correctly classified.\n",
    "- **F1-score** is an aggregation of precision and recall.\n",
    "\n"
   ]
  },
  {
   "cell_type": "markdown",
   "id": "f9549ebf",
   "metadata": {},
   "source": [
    "💭\n",
    "### Reflect on these questions as you complete the executing stage.\n",
    "\n",
    "- What key insights emerged from your model(s)?\n",
    "- What business recommendations do you propose based on the models built?\n",
    "- What potential recommendations would you make to your manager/company?\n",
    "- Do you think your model could be improved? Why or why not? How?\n",
    "- Given what you know about the data and the models you were using, what other questions could you address for the team?\n",
    "- What resources do you find yourself using as you complete this stage? (Make sure to include the links.)\n",
    "- Do you have any ethical considerations in this stage?\n"
   ]
  },
  {
   "cell_type": "markdown",
   "id": "c9bef683",
   "metadata": {},
   "source": [
    "## Step 4. Results and Evaluation\n",
    "- Interpret model\n",
    "- Evaluate model performance using metrics\n",
    "- Prepare results, visualizations, and actionable steps to share with stakeholders\n"
   ]
  },
  {
   "cell_type": "markdown",
   "id": "06a3a848",
   "metadata": {},
   "source": [
    "### Summary of model results\n",
    "\n",
    "[Double-click to enter your summary here.]"
   ]
  },
  {
   "cell_type": "markdown",
   "id": "5014a39c",
   "metadata": {},
   "source": [
    "### Conclusion, Recommendations, Next Steps\n",
    "\n",
    "[Double-click to enter your conclusion, recommendations, and next steps here.]"
   ]
  }
 ],
 "metadata": {
  "language_info": {
   "name": "python"
  }
 },
 "nbformat": 4,
 "nbformat_minor": 5
}
